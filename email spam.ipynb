{
 "cells": [
  {
   "cell_type": "code",
   "execution_count": 1,
   "id": "14a09a93-72d4-4ef4-a705-c7e54e88283a",
   "metadata": {
    "tags": []
   },
   "outputs": [
    {
     "name": "stderr",
     "output_type": "stream",
     "text": [
      "[nltk_data] Downloading package stopwords to\n",
      "[nltk_data]     C:\\Users\\user\\AppData\\Roaming\\nltk_data...\n",
      "[nltk_data]   Package stopwords is already up-to-date!\n"
     ]
    }
   ],
   "source": [
    "import numpy as np\n",
    "import pandas as pd\n",
    "import re,string\n",
    "import matplotlib.pyplot as plt\n",
    "from nltk.corpus import stopwords\n",
    "from nltk.stem import PorterStemmer\n",
    "from sklearn.feature_extraction.text import TfidfVectorizer\n",
    "from sklearn.pipeline import Pipeline\n",
    "from sklearn.metrics import classification_report, confusion_matrix\n",
    "from sklearn.model_selection import train_test_split\n",
    "from sklearn.feature_selection import SelectKBest, chi2\n",
    "# from sklearn.ensemble import RandomForestClassifier\n",
    "import pickle\n",
    "import nltk\n",
    "nltk.download('stopwords')\n",
    "%matplotlib inline"
   ]
  },
  {
   "cell_type": "code",
   "execution_count": 2,
   "id": "bc21b1c8-da19-4e53-8b2f-669f532436d2",
   "metadata": {
    "tags": []
   },
   "outputs": [
    {
     "data": {
      "text/html": [
       "<div>\n",
       "<style scoped>\n",
       "    .dataframe tbody tr th:only-of-type {\n",
       "        vertical-align: middle;\n",
       "    }\n",
       "\n",
       "    .dataframe tbody tr th {\n",
       "        vertical-align: top;\n",
       "    }\n",
       "\n",
       "    .dataframe thead th {\n",
       "        text-align: right;\n",
       "    }\n",
       "</style>\n",
       "<table border=\"1\" class=\"dataframe\">\n",
       "  <thead>\n",
       "    <tr style=\"text-align: right;\">\n",
       "      <th></th>\n",
       "      <th>S. No.</th>\n",
       "      <th>Message_body</th>\n",
       "      <th>Label</th>\n",
       "    </tr>\n",
       "  </thead>\n",
       "  <tbody>\n",
       "    <tr>\n",
       "      <th>416</th>\n",
       "      <td>417</td>\n",
       "      <td>Idk. I'm sitting here in a stop and shop parki...</td>\n",
       "      <td>Non-Spam</td>\n",
       "    </tr>\n",
       "    <tr>\n",
       "      <th>547</th>\n",
       "      <td>548</td>\n",
       "      <td>Great! How is the office today?</td>\n",
       "      <td>Non-Spam</td>\n",
       "    </tr>\n",
       "    <tr>\n",
       "      <th>934</th>\n",
       "      <td>935</td>\n",
       "      <td>I'm in a meeting, call me later at</td>\n",
       "      <td>Non-Spam</td>\n",
       "    </tr>\n",
       "    <tr>\n",
       "      <th>555</th>\n",
       "      <td>556</td>\n",
       "      <td>You have WON a guaranteed £1000 cash or a £200...</td>\n",
       "      <td>Spam</td>\n",
       "    </tr>\n",
       "    <tr>\n",
       "      <th>519</th>\n",
       "      <td>520</td>\n",
       "      <td>Hmmm.still we dont have opener?</td>\n",
       "      <td>Non-Spam</td>\n",
       "    </tr>\n",
       "    <tr>\n",
       "      <th>...</th>\n",
       "      <td>...</td>\n",
       "      <td>...</td>\n",
       "      <td>...</td>\n",
       "    </tr>\n",
       "    <tr>\n",
       "      <th>561</th>\n",
       "      <td>562</td>\n",
       "      <td>Guess which pub im in? Im as happy as a pig in...</td>\n",
       "      <td>Non-Spam</td>\n",
       "    </tr>\n",
       "    <tr>\n",
       "      <th>4</th>\n",
       "      <td>5</td>\n",
       "      <td>This is the 2nd time we have tried 2 contact u...</td>\n",
       "      <td>Spam</td>\n",
       "    </tr>\n",
       "    <tr>\n",
       "      <th>870</th>\n",
       "      <td>871</td>\n",
       "      <td>A guy who gets used but is too dumb to realize...</td>\n",
       "      <td>Non-Spam</td>\n",
       "    </tr>\n",
       "    <tr>\n",
       "      <th>841</th>\n",
       "      <td>842</td>\n",
       "      <td>There'll be a minor shindig at my place later ...</td>\n",
       "      <td>Non-Spam</td>\n",
       "    </tr>\n",
       "    <tr>\n",
       "      <th>328</th>\n",
       "      <td>329</td>\n",
       "      <td>Its a part of checking IQ</td>\n",
       "      <td>Non-Spam</td>\n",
       "    </tr>\n",
       "  </tbody>\n",
       "</table>\n",
       "<p>957 rows × 3 columns</p>\n",
       "</div>"
      ],
      "text/plain": [
       "     S. No.                                       Message_body     Label\n",
       "416     417  Idk. I'm sitting here in a stop and shop parki...  Non-Spam\n",
       "547     548                    Great! How is the office today?  Non-Spam\n",
       "934     935                 I'm in a meeting, call me later at  Non-Spam\n",
       "555     556  You have WON a guaranteed £1000 cash or a £200...      Spam\n",
       "519     520                    Hmmm.still we dont have opener?  Non-Spam\n",
       "..      ...                                                ...       ...\n",
       "561     562  Guess which pub im in? Im as happy as a pig in...  Non-Spam\n",
       "4         5  This is the 2nd time we have tried 2 contact u...      Spam\n",
       "870     871  A guy who gets used but is too dumb to realize...  Non-Spam\n",
       "841     842  There'll be a minor shindig at my place later ...  Non-Spam\n",
       "328     329                          Its a part of checking IQ  Non-Spam\n",
       "\n",
       "[957 rows x 3 columns]"
      ]
     },
     "execution_count": 2,
     "metadata": {},
     "output_type": "execute_result"
    }
   ],
   "source": [
    "df = pd.read_csv('SMS_train.csv', encoding = 'latin1')\n",
    "df = df.sample(frac = 1)\n",
    "df"
   ]
  },
  {
   "cell_type": "code",
   "execution_count": 3,
   "id": "f115c814-7122-45a6-abda-84be3ce5a222",
   "metadata": {
    "tags": []
   },
   "outputs": [
    {
     "data": {
      "text/plain": [
       "2"
      ]
     },
     "execution_count": 3,
     "metadata": {},
     "output_type": "execute_result"
    }
   ],
   "source": [
    "len(set(df['Label']))"
   ]
  },
  {
   "cell_type": "code",
   "execution_count": 4,
   "id": "6ff633f6-26ad-41db-bcb2-7efe7dfc3c81",
   "metadata": {
    "tags": []
   },
   "outputs": [
    {
     "data": {
      "text/plain": [
       "Label\n",
       "Non-Spam    835\n",
       "Spam        122\n",
       "Name: Label, dtype: int64"
      ]
     },
     "execution_count": 4,
     "metadata": {},
     "output_type": "execute_result"
    }
   ],
   "source": [
    "df.groupby('Label').Label.count()"
   ]
  },
  {
   "cell_type": "code",
   "execution_count": 5,
   "id": "55c70b8f-b443-49ec-8ba3-45355434e922",
   "metadata": {
    "tags": []
   },
   "outputs": [
    {
     "data": {
      "image/png": "[encoded data removed]",
      "text/plain": [
       "<Figure size 640x480 with 1 Axes>"
      ]
     },
     "metadata": {},
     "output_type": "display_data"
    }
   ],
   "source": [
    "df.groupby('Label').Label.count().plot.bar()\n",
    "plt.show()"
   ]
  },
  {
   "cell_type": "code",
   "execution_count": 6,
   "id": "0b90a85a-bdf6-46ad-bac5-29bfd1e1f461",
   "metadata": {
    "tags": []
   },
   "outputs": [
    {
     "data": {
      "text/plain": [
       "'rofl  its true to its name'"
      ]
     },
     "execution_count": 6,
     "metadata": {},
     "output_type": "execute_result"
    }
   ],
   "source": [
    "regs = re.sub(\"[^a-zA-Z]\", \" \", df['Message_body'][0]).lower()\n",
    "regs"
   ]
  },
  {
   "cell_type": "code",
   "execution_count": 7,
   "id": "5478d270-a09c-4593-ae92-5f3d9cc82117",
   "metadata": {
    "tags": []
   },
   "outputs": [
    {
     "name": "stdout",
     "output_type": "stream",
     "text": [
      "['i', 'me', 'my', 'myself', 'we', 'our', 'ours', 'ourselves', 'you', \"you're\", \"you've\", \"you'll\", \"you'd\", 'your', 'yours', 'yourself', 'yourselves', 'he', 'him', 'his', 'himself', 'she', \"she's\", 'her', 'hers', 'herself', 'it', \"it's\", 'its', 'itself', 'they', 'them', 'their', 'theirs', 'themselves', 'what', 'which', 'who', 'whom', 'this', 'that', \"that'll\", 'these', 'those', 'am', 'is', 'are', 'was', 'were', 'be', 'been', 'being', 'have', 'has', 'had', 'having', 'do', 'does', 'did', 'doing', 'a', 'an', 'the', 'and', 'but', 'if', 'or', 'because', 'as', 'until', 'while', 'of', 'at', 'by', 'for', 'with', 'about', 'against', 'between', 'into', 'through', 'during', 'before', 'after', 'above', 'below', 'to', 'from', 'up', 'down', 'in', 'out', 'on', 'off', 'over', 'under', 'again', 'further', 'then', 'once', 'here', 'there', 'when', 'where', 'why', 'how', 'all', 'any', 'both', 'each', 'few', 'more', 'most', 'other', 'some', 'such', 'no', 'nor', 'not', 'only', 'own', 'same', 'so', 'than', 'too', 'very', 's', 't', 'can', 'will', 'just', 'don', \"don't\", 'should', \"should've\", 'now', 'd', 'll', 'm', 'o', 're', 've', 'y', 'ain', 'aren', \"aren't\", 'couldn', \"couldn't\", 'didn', \"didn't\", 'doesn', \"doesn't\", 'hadn', \"hadn't\", 'hasn', \"hasn't\", 'haven', \"haven't\", 'isn', \"isn't\", 'ma', 'mightn', \"mightn't\", 'mustn', \"mustn't\", 'needn', \"needn't\", 'shan', \"shan't\", 'shouldn', \"shouldn't\", 'wasn', \"wasn't\", 'weren', \"weren't\", 'won', \"won't\", 'wouldn', \"wouldn't\"]\n"
     ]
    },
    {
     "name": "stderr",
     "output_type": "stream",
     "text": [
      "[nltk_data] Downloading package stopwords to\n",
      "[nltk_data]     C:\\Users\\user\\AppData\\Roaming\\nltk_data...\n",
      "[nltk_data]   Package stopwords is already up-to-date!\n"
     ]
    }
   ],
   "source": [
    "nltk.download('stopwords')\n",
    "words = stopwords.words(\"english\")\n",
    "print(words)"
   ]
  },
  {
   "cell_type": "code",
   "execution_count": 8,
   "id": "d879f1f3-1c7a-44dc-88dd-6fdb31cf6d13",
   "metadata": {
    "tags": []
   },
   "outputs": [
    {
     "data": {
      "text/plain": [
       "'i am love messag'"
      ]
     },
     "execution_count": 8,
     "metadata": {},
     "output_type": "execute_result"
    }
   ],
   "source": [
    "stemmer = PorterStemmer()\n",
    "data = \"I am loving messageing\".split()\n",
    "\" \".join([stemmer.stem(i) for i in data])"
   ]
  },
  {
   "cell_type": "code",
   "execution_count": 9,
   "id": "59cc0d59-2800-4c44-8072-2bd6f1aeaa5d",
   "metadata": {
    "tags": []
   },
   "outputs": [
    {
     "data": {
      "text/plain": [
       "'rofl true name'"
      ]
     },
     "execution_count": 9,
     "metadata": {},
     "output_type": "execute_result"
    }
   ],
   "source": [
    "words = stopwords.words(\"english\")\n",
    "without_stop_words_of_a_news = \" \".join([i for i in regs.lower().split() if i not in words])\n",
    "without_stop_words_of_a_news"
   ]
  },
  {
   "cell_type": "code",
   "execution_count": 10,
   "id": "52c4c25c-85be-4f20-8dc7-4fa890742048",
   "metadata": {
    "tags": []
   },
   "outputs": [
    {
     "data": {
      "text/html": [
       "<div>\n",
       "<style scoped>\n",
       "    .dataframe tbody tr th:only-of-type {\n",
       "        vertical-align: middle;\n",
       "    }\n",
       "\n",
       "    .dataframe tbody tr th {\n",
       "        vertical-align: top;\n",
       "    }\n",
       "\n",
       "    .dataframe thead th {\n",
       "        text-align: right;\n",
       "    }\n",
       "</style>\n",
       "<table border=\"1\" class=\"dataframe\">\n",
       "  <thead>\n",
       "    <tr style=\"text-align: right;\">\n",
       "      <th></th>\n",
       "      <th>S. No.</th>\n",
       "      <th>Message_body</th>\n",
       "      <th>Label</th>\n",
       "      <th>cleaned</th>\n",
       "    </tr>\n",
       "  </thead>\n",
       "  <tbody>\n",
       "    <tr>\n",
       "      <th>416</th>\n",
       "      <td>417</td>\n",
       "      <td>Idk. I'm sitting here in a stop and shop parki...</td>\n",
       "      <td>Non-Spam</td>\n",
       "      <td>idk. i'm sit here in a stop and shop park lot ...</td>\n",
       "    </tr>\n",
       "    <tr>\n",
       "      <th>547</th>\n",
       "      <td>548</td>\n",
       "      <td>Great! How is the office today?</td>\n",
       "      <td>Non-Spam</td>\n",
       "      <td>great! how is the offic today?</td>\n",
       "    </tr>\n",
       "    <tr>\n",
       "      <th>934</th>\n",
       "      <td>935</td>\n",
       "      <td>I'm in a meeting, call me later at</td>\n",
       "      <td>Non-Spam</td>\n",
       "      <td>i'm in a meeting, call me later at</td>\n",
       "    </tr>\n",
       "    <tr>\n",
       "      <th>555</th>\n",
       "      <td>556</td>\n",
       "      <td>You have WON a guaranteed £1000 cash or a £200...</td>\n",
       "      <td>Spam</td>\n",
       "      <td>you have won a guarante £1000 cash or a £2000 ...</td>\n",
       "    </tr>\n",
       "    <tr>\n",
       "      <th>519</th>\n",
       "      <td>520</td>\n",
       "      <td>Hmmm.still we dont have opener?</td>\n",
       "      <td>Non-Spam</td>\n",
       "      <td>hmmm.still we dont have opener?</td>\n",
       "    </tr>\n",
       "    <tr>\n",
       "      <th>...</th>\n",
       "      <td>...</td>\n",
       "      <td>...</td>\n",
       "      <td>...</td>\n",
       "      <td>...</td>\n",
       "    </tr>\n",
       "    <tr>\n",
       "      <th>561</th>\n",
       "      <td>562</td>\n",
       "      <td>Guess which pub im in? Im as happy as a pig in...</td>\n",
       "      <td>Non-Spam</td>\n",
       "      <td>guess which pub im in? im as happi as a pig in...</td>\n",
       "    </tr>\n",
       "    <tr>\n",
       "      <th>4</th>\n",
       "      <td>5</td>\n",
       "      <td>This is the 2nd time we have tried 2 contact u...</td>\n",
       "      <td>Spam</td>\n",
       "      <td>thi is the 2nd time we have tri 2 contact u. u...</td>\n",
       "    </tr>\n",
       "    <tr>\n",
       "      <th>870</th>\n",
       "      <td>871</td>\n",
       "      <td>A guy who gets used but is too dumb to realize...</td>\n",
       "      <td>Non-Spam</td>\n",
       "      <td>a guy who get use but is too dumb to realiz it.</td>\n",
       "    </tr>\n",
       "    <tr>\n",
       "      <th>841</th>\n",
       "      <td>842</td>\n",
       "      <td>There'll be a minor shindig at my place later ...</td>\n",
       "      <td>Non-Spam</td>\n",
       "      <td>there'l be a minor shindig at my place later t...</td>\n",
       "    </tr>\n",
       "    <tr>\n",
       "      <th>328</th>\n",
       "      <td>329</td>\n",
       "      <td>Its a part of checking IQ</td>\n",
       "      <td>Non-Spam</td>\n",
       "      <td>it a part of check iq</td>\n",
       "    </tr>\n",
       "  </tbody>\n",
       "</table>\n",
       "<p>957 rows × 4 columns</p>\n",
       "</div>"
      ],
      "text/plain": [
       "     S. No.                                       Message_body     Label  \\\n",
       "416     417  Idk. I'm sitting here in a stop and shop parki...  Non-Spam   \n",
       "547     548                    Great! How is the office today?  Non-Spam   \n",
       "934     935                 I'm in a meeting, call me later at  Non-Spam   \n",
       "555     556  You have WON a guaranteed £1000 cash or a £200...      Spam   \n",
       "519     520                    Hmmm.still we dont have opener?  Non-Spam   \n",
       "..      ...                                                ...       ...   \n",
       "561     562  Guess which pub im in? Im as happy as a pig in...  Non-Spam   \n",
       "4         5  This is the 2nd time we have tried 2 contact u...      Spam   \n",
       "870     871  A guy who gets used but is too dumb to realize...  Non-Spam   \n",
       "841     842  There'll be a minor shindig at my place later ...  Non-Spam   \n",
       "328     329                          Its a part of checking IQ  Non-Spam   \n",
       "\n",
       "                                               cleaned  \n",
       "416  idk. i'm sit here in a stop and shop park lot ...  \n",
       "547                     great! how is the offic today?  \n",
       "934                 i'm in a meeting, call me later at  \n",
       "555  you have won a guarante £1000 cash or a £2000 ...  \n",
       "519                    hmmm.still we dont have opener?  \n",
       "..                                                 ...  \n",
       "561  guess which pub im in? im as happi as a pig in...  \n",
       "4    thi is the 2nd time we have tri 2 contact u. u...  \n",
       "870    a guy who get use but is too dumb to realiz it.  \n",
       "841  there'l be a minor shindig at my place later t...  \n",
       "328                              it a part of check iq  \n",
       "\n",
       "[957 rows x 4 columns]"
      ]
     },
     "execution_count": 10,
     "metadata": {},
     "output_type": "execute_result"
    }
   ],
   "source": [
    "df['cleaned'] = list(filter(lambda x: [i for i in re.sub(\"[^a-zA-Z]\", \" \", x)],df['Message_body']))\n",
    "df['cleaned'] = df['cleaned'].apply(lambda x: \" \".join([stemmer.stem(i) for i in x.lower().split()]))\n",
    "df"
   ]
  },
  {
   "cell_type": "code",
   "execution_count": 11,
   "id": "97fcc1c6-6eda-4d4e-9a86-7b9ac92256d7",
   "metadata": {
    "tags": []
   },
   "outputs": [
    {
     "name": "stderr",
     "output_type": "stream",
     "text": [
      "[nltk_data] Downloading package stopwords to\n",
      "[nltk_data]     C:\\Users\\user\\AppData\\Roaming\\nltk_data...\n",
      "[nltk_data]   Package stopwords is already up-to-date!\n"
     ]
    },
    {
     "data": {
      "text/html": [
       "<div>\n",
       "<style scoped>\n",
       "    .dataframe tbody tr th:only-of-type {\n",
       "        vertical-align: middle;\n",
       "    }\n",
       "\n",
       "    .dataframe tbody tr th {\n",
       "        vertical-align: top;\n",
       "    }\n",
       "\n",
       "    .dataframe thead th {\n",
       "        text-align: right;\n",
       "    }\n",
       "</style>\n",
       "<table border=\"1\" class=\"dataframe\">\n",
       "  <thead>\n",
       "    <tr style=\"text-align: right;\">\n",
       "      <th></th>\n",
       "      <th>S. No.</th>\n",
       "      <th>Message_body</th>\n",
       "      <th>Label</th>\n",
       "      <th>cleaned</th>\n",
       "    </tr>\n",
       "  </thead>\n",
       "  <tbody>\n",
       "    <tr>\n",
       "      <th>416</th>\n",
       "      <td>417</td>\n",
       "      <td>Idk. I'm sitting here in a stop and shop parki...</td>\n",
       "      <td>Non-Spam</td>\n",
       "      <td>idk sit stop shop park lot right bawl eye beca...</td>\n",
       "    </tr>\n",
       "    <tr>\n",
       "      <th>547</th>\n",
       "      <td>548</td>\n",
       "      <td>Great! How is the office today?</td>\n",
       "      <td>Non-Spam</td>\n",
       "      <td>great offic today</td>\n",
       "    </tr>\n",
       "    <tr>\n",
       "      <th>934</th>\n",
       "      <td>935</td>\n",
       "      <td>I'm in a meeting, call me later at</td>\n",
       "      <td>Non-Spam</td>\n",
       "      <td>meet call later</td>\n",
       "    </tr>\n",
       "    <tr>\n",
       "      <th>555</th>\n",
       "      <td>556</td>\n",
       "      <td>You have WON a guaranteed £1000 cash or a £200...</td>\n",
       "      <td>Spam</td>\n",
       "      <td>guarant cash prize claim yr prize call custom ...</td>\n",
       "    </tr>\n",
       "    <tr>\n",
       "      <th>519</th>\n",
       "      <td>520</td>\n",
       "      <td>Hmmm.still we dont have opener?</td>\n",
       "      <td>Non-Spam</td>\n",
       "      <td>hmmm still dont open</td>\n",
       "    </tr>\n",
       "    <tr>\n",
       "      <th>...</th>\n",
       "      <td>...</td>\n",
       "      <td>...</td>\n",
       "      <td>...</td>\n",
       "      <td>...</td>\n",
       "    </tr>\n",
       "    <tr>\n",
       "      <th>561</th>\n",
       "      <td>562</td>\n",
       "      <td>Guess which pub im in? Im as happy as a pig in...</td>\n",
       "      <td>Non-Spam</td>\n",
       "      <td>guess pub im im happi pig clover whatev say</td>\n",
       "    </tr>\n",
       "    <tr>\n",
       "      <th>4</th>\n",
       "      <td>5</td>\n",
       "      <td>This is the 2nd time we have tried 2 contact u...</td>\n",
       "      <td>Spam</td>\n",
       "      <td>thi nd time tri contact u u pound prize claim ...</td>\n",
       "    </tr>\n",
       "    <tr>\n",
       "      <th>870</th>\n",
       "      <td>871</td>\n",
       "      <td>A guy who gets used but is too dumb to realize...</td>\n",
       "      <td>Non-Spam</td>\n",
       "      <td>guy get use dumb realiz</td>\n",
       "    </tr>\n",
       "    <tr>\n",
       "      <th>841</th>\n",
       "      <td>842</td>\n",
       "      <td>There'll be a minor shindig at my place later ...</td>\n",
       "      <td>Non-Spam</td>\n",
       "      <td>l minor shindig place later tonight interest</td>\n",
       "    </tr>\n",
       "    <tr>\n",
       "      <th>328</th>\n",
       "      <td>329</td>\n",
       "      <td>Its a part of checking IQ</td>\n",
       "      <td>Non-Spam</td>\n",
       "      <td>part check iq</td>\n",
       "    </tr>\n",
       "  </tbody>\n",
       "</table>\n",
       "<p>957 rows × 4 columns</p>\n",
       "</div>"
      ],
      "text/plain": [
       "     S. No.                                       Message_body     Label  \\\n",
       "416     417  Idk. I'm sitting here in a stop and shop parki...  Non-Spam   \n",
       "547     548                    Great! How is the office today?  Non-Spam   \n",
       "934     935                 I'm in a meeting, call me later at  Non-Spam   \n",
       "555     556  You have WON a guaranteed £1000 cash or a £200...      Spam   \n",
       "519     520                    Hmmm.still we dont have opener?  Non-Spam   \n",
       "..      ...                                                ...       ...   \n",
       "561     562  Guess which pub im in? Im as happy as a pig in...  Non-Spam   \n",
       "4         5  This is the 2nd time we have tried 2 contact u...      Spam   \n",
       "870     871  A guy who gets used but is too dumb to realize...  Non-Spam   \n",
       "841     842  There'll be a minor shindig at my place later ...  Non-Spam   \n",
       "328     329                          Its a part of checking IQ  Non-Spam   \n",
       "\n",
       "                                               cleaned  \n",
       "416  idk sit stop shop park lot right bawl eye beca...  \n",
       "547                                  great offic today  \n",
       "934                                    meet call later  \n",
       "555  guarant cash prize claim yr prize call custom ...  \n",
       "519                               hmmm still dont open  \n",
       "..                                                 ...  \n",
       "561        guess pub im im happi pig clover whatev say  \n",
       "4    thi nd time tri contact u u pound prize claim ...  \n",
       "870                            guy get use dumb realiz  \n",
       "841       l minor shindig place later tonight interest  \n",
       "328                                      part check iq  \n",
       "\n",
       "[957 rows x 4 columns]"
      ]
     },
     "execution_count": 11,
     "metadata": {},
     "output_type": "execute_result"
    }
   ],
   "source": [
    "nltk.download('stopwords')\n",
    "stemmer = PorterStemmer()\n",
    "words = stopwords.words(\"english\")\n",
    "words.extend(['a','an','the'])\n",
    "df['cleaned'] = df['cleaned'].apply(lambda x: \" \".join([stemmer.stem(i) for i in re.sub(\"[^a-zA-Z]\", \" \", x.lower()).split() if i not in words]).lower())\n",
    "df"
   ]
  },
  {
   "cell_type": "code",
   "execution_count": 12,
   "id": "f641ee6a-be4d-4ccf-87bc-dd41ae5ffeca",
   "metadata": {
    "tags": []
   },
   "outputs": [],
   "source": [
    "df.to_csv('cleaned_news.csv')"
   ]
  },
  {
   "cell_type": "code",
   "execution_count": 13,
   "id": "c7f89af1-8cd2-4c7d-8e30-a23bc0d80e99",
   "metadata": {
    "tags": []
   },
   "outputs": [],
   "source": [
    "from sklearn.linear_model import LogisticRegression\n",
    "log_regression = LogisticRegression()\n",
    "\n",
    "vectorizer = TfidfVectorizer(stop_words=\"english\")\n",
    "X = df['cleaned']\n",
    "Y = df['Label']\n",
    "\n",
    "X_train, X_test, y_train, y_test = train_test_split(X, Y, test_size=0.15) #Splitting dataset\n",
    "\n",
    "# #Creating Pipeline\n",
    "pipeline = Pipeline([('vect', vectorizer),\n",
    "                     ('chi',  SelectKBest(chi2, k=2000)),\n",
    "                     ('clf', LogisticRegression(random_state=1))])\n",
    "model = pipeline.fit(X_train, y_train)"
   ]
  },
  {
   "cell_type": "code",
   "execution_count": 14,
   "id": "b725defc-7fce-4b95-97f2-1a0bbd6406bb",
   "metadata": {
    "tags": []
   },
   "outputs": [
    {
     "name": "stdout",
     "output_type": "stream",
     "text": [
      "265    pl ask macho much budget bb bold co saw new on...\n",
      "173                                  necessarili respect\n",
      "99                                                   yup\n",
      "881                     alright bring see like lt gt min\n",
      "433                                      sorri wa grocer\n",
      "                             ...                        \n",
      "410    come karnan car plea wait till pm directli got...\n",
      "465    news hassl get weed week andr ha money haughai...\n",
      "506                            sorri call later meet sir\n",
      "741                                 go sleep tire travel\n",
      "483                       sorri miss call plea call back\n",
      "Name: cleaned, Length: 144, dtype: object 265    Non-Spam\n",
      "173    Non-Spam\n",
      "99     Non-Spam\n",
      "881    Non-Spam\n",
      "433    Non-Spam\n",
      "         ...   \n",
      "410    Non-Spam\n",
      "465    Non-Spam\n",
      "506    Non-Spam\n",
      "741    Non-Spam\n",
      "483    Non-Spam\n",
      "Name: Label, Length: 144, dtype: object\n"
     ]
    }
   ],
   "source": [
    "print(X_test,y_test)"
   ]
  },
  {
   "cell_type": "code",
   "execution_count": 15,
   "id": "f0e24405-2992-420a-a448-8a3d2dcaae68",
   "metadata": {
    "tags": []
   },
   "outputs": [
    {
     "name": "stdout",
     "output_type": "stream",
     "text": [
      "0.8958333333333334\n",
      "\n",
      "\n",
      "['Non-Spam' 'Non-Spam' 'Non-Spam' 'Non-Spam' 'Non-Spam' 'Non-Spam'\n",
      " 'Non-Spam' 'Non-Spam' 'Non-Spam' 'Non-Spam' 'Non-Spam' 'Spam' 'Non-Spam'\n",
      " 'Non-Spam' 'Spam' 'Non-Spam' 'Non-Spam' 'Non-Spam' 'Non-Spam' 'Non-Spam'\n",
      " 'Non-Spam' 'Non-Spam' 'Non-Spam' 'Non-Spam' 'Non-Spam' 'Non-Spam'\n",
      " 'Non-Spam' 'Non-Spam' 'Non-Spam' 'Non-Spam' 'Non-Spam' 'Non-Spam'\n",
      " 'Non-Spam' 'Non-Spam' 'Non-Spam' 'Non-Spam' 'Non-Spam' 'Non-Spam'\n",
      " 'Non-Spam' 'Non-Spam' 'Non-Spam' 'Non-Spam' 'Non-Spam' 'Non-Spam'\n",
      " 'Non-Spam' 'Non-Spam' 'Non-Spam' 'Spam' 'Non-Spam' 'Non-Spam' 'Non-Spam'\n",
      " 'Non-Spam' 'Non-Spam' 'Non-Spam' 'Non-Spam' 'Non-Spam' 'Non-Spam'\n",
      " 'Non-Spam' 'Non-Spam' 'Non-Spam' 'Non-Spam' 'Non-Spam' 'Non-Spam' 'Spam'\n",
      " 'Non-Spam' 'Non-Spam' 'Non-Spam' 'Non-Spam' 'Non-Spam' 'Non-Spam'\n",
      " 'Non-Spam' 'Non-Spam' 'Non-Spam' 'Non-Spam' 'Non-Spam' 'Non-Spam'\n",
      " 'Non-Spam' 'Non-Spam' 'Non-Spam' 'Non-Spam' 'Non-Spam' 'Non-Spam'\n",
      " 'Non-Spam' 'Non-Spam' 'Non-Spam' 'Non-Spam' 'Spam' 'Non-Spam' 'Non-Spam'\n",
      " 'Non-Spam' 'Non-Spam' 'Non-Spam' 'Non-Spam' 'Non-Spam' 'Non-Spam'\n",
      " 'Non-Spam' 'Non-Spam' 'Non-Spam' 'Non-Spam' 'Non-Spam' 'Non-Spam'\n",
      " 'Non-Spam' 'Non-Spam' 'Non-Spam' 'Non-Spam' 'Non-Spam' 'Non-Spam'\n",
      " 'Non-Spam' 'Non-Spam' 'Non-Spam' 'Non-Spam' 'Non-Spam' 'Non-Spam'\n",
      " 'Non-Spam' 'Non-Spam' 'Non-Spam' 'Non-Spam' 'Non-Spam' 'Non-Spam'\n",
      " 'Non-Spam' 'Non-Spam' 'Non-Spam' 'Non-Spam' 'Non-Spam' 'Non-Spam'\n",
      " 'Non-Spam' 'Non-Spam' 'Non-Spam' 'Non-Spam' 'Non-Spam' 'Non-Spam'\n",
      " 'Non-Spam' 'Non-Spam' 'Non-Spam' 'Non-Spam' 'Non-Spam' 'Non-Spam'\n",
      " 'Non-Spam' 'Non-Spam' 'Non-Spam' 'Non-Spam' 'Non-Spam' 'Non-Spam'\n",
      " 'Non-Spam']\n"
     ]
    }
   ],
   "source": [
    "from sklearn.metrics import accuracy_score\n",
    "predict_news_cat = model.predict(X_test)\n",
    "print(accuracy_score(y_test,predict_news_cat))\n",
    "print('\\n')\n",
    "print(predict_news_cat)"
   ]
  },
  {
   "cell_type": "code",
   "execution_count": 16,
   "id": "2cfdfd97-5fd8-47ea-92b8-468a884047eb",
   "metadata": {
    "tags": []
   },
   "outputs": [
    {
     "name": "stdout",
     "output_type": "stream",
     "text": [
      "Predicted news category =  Non-Spam\n"
     ]
    }
   ],
   "source": [
    "file = open('news1.txt','r')\n",
    "news = file.read()\n",
    "file.close()\n",
    "# news = input(\"Enter news = \")\n",
    "news_data = {'predict_news':[news]}\n",
    "news_data_df = pd.DataFrame(news_data)\n",
    "\n",
    "predict_news_cat = model.predict(news_data_df['predict_news'])\n",
    "print(\"Predicted news category = \",predict_news_cat[0])"
   ]
  },
  {
   "cell_type": "code",
   "execution_count": 17,
   "id": "0b0207b1-7a2d-4dbe-ad7a-9c33a92d3497",
   "metadata": {
    "tags": []
   },
   "outputs": [
    {
     "name": "stdout",
     "output_type": "stream",
     "text": [
      "              precision    recall  f1-score   support\n",
      "\n",
      "    Non-Spam       1.00      0.89      0.94       139\n",
      "        Spam       0.25      1.00      0.40         5\n",
      "\n",
      "    accuracy                           0.90       144\n",
      "   macro avg       0.62      0.95      0.67       144\n",
      "weighted avg       0.97      0.90      0.92       144\n",
      "\n",
      "[[124  15]\n",
      " [  0   5]]\n"
     ]
    }
   ],
   "source": [
    "ytest = np.array(y_test)\n",
    "print(classification_report(model.predict(X_test),ytest))\n",
    "print(confusion_matrix(model.predict(X_test),ytest))"
   ]
  },
  {
   "cell_type": "code",
   "execution_count": 18,
   "id": "740199dd-7448-4155-9500-9d536b797a7d",
   "metadata": {
    "tags": []
   },
   "outputs": [
    {
     "data": {
      "image/png": "[encoded data removed]",
      "text/plain": [
       "<Figure size 800x800 with 2 Axes>"
      ]
     },
     "metadata": {},
     "output_type": "display_data"
    }
   ],
   "source": [
    "import matplotlib.pyplot as plt\n",
    "from sklearn.metrics import ConfusionMatrixDisplay\n",
    "cm = confusion_matrix(model.predict(X_test),ytest)\n",
    "fig, ax = plt.subplots(figsize=(8,8), dpi=100)\n",
    "class_names = ['Non-spam','Spam']\n",
    "display = ConfusionMatrixDisplay(cm, display_labels=class_names)\n",
    "ax.set(title='Confusion Matrix for the text classification')\n",
    "display.plot(ax=ax);"
   ]
  },
  {
   "cell_type": "code",
   "execution_count": null,
   "id": "8911aba3-419a-4282-b6ba-19b7b011f917",
   "metadata": {},
   "outputs": [],
   "source": []
  }
 ],
 "metadata": {
  "kernelspec": {
   "display_name": "Python 3 (ipykernel)",
   "language": "python",
   "name": "python3"
  },
  "language_info": {
   "codemirror_mode": {
    "name": "ipython",
    "version": 3
   },
   "file_extension": ".py",
   "mimetype": "text/x-python",
   "name": "python",
   "nbconvert_exporter": "python",
   "pygments_lexer": "ipython3",
   "version": "3.11.5"
  }
 },
 "nbformat": 4,
 "nbformat_minor": 5
}
