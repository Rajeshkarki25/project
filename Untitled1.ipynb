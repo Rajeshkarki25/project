{
 "cells": [
  {
   "cell_type": "code",
   "execution_count": 1,
   "id": "f4057ed8-c849-4e3d-8962-7e974071e99b",
   "metadata": {
    "tags": []
   },
   "outputs": [],
   "source": [
    "#Libraries\n",
    "import numpy as np\n",
    "import pandas as pd\n",
    "import matplotlib.pyplot as plt\n",
    "import seaborn as sns\n",
    "\n",
    "#Data Preprocessing\n",
    "from sklearn.model_selection import train_test_split\n",
    "# from sklearn.preprocessing import StandardScaler, MinMaxScaler\n",
    "\n",
    "#Models ML\n",
    "from sklearn.svm import SVC\n",
    "#Metrics\n",
    "from sklearn.metrics import confusion_matrix,accuracy_score\n",
    "# from sklearn.metrics import mean_squared_error,r2_score\n",
    "# from sklearn.metrics import roc_curve, auc"
   ]
  },
  {
   "cell_type": "code",
   "execution_count": 3,
   "id": "49b79f75-7756-44c1-a2a2-836f35846de5",
   "metadata": {
    "tags": []
   },
   "outputs": [
    {
     "data": {
      "text/html": [
       "<div>\n",
       "<style scoped>\n",
       "    .dataframe tbody tr th:only-of-type {\n",
       "        vertical-align: middle;\n",
       "    }\n",
       "\n",
       "    .dataframe tbody tr th {\n",
       "        vertical-align: top;\n",
       "    }\n",
       "\n",
       "    .dataframe thead th {\n",
       "        text-align: right;\n",
       "    }\n",
       "</style>\n",
       "<table border=\"1\" class=\"dataframe\">\n",
       "  <thead>\n",
       "    <tr style=\"text-align: right;\">\n",
       "      <th></th>\n",
       "      <th>Temperature (°C)</th>\n",
       "      <th>Pressure (kPa)</th>\n",
       "      <th>Temperature x Pressure</th>\n",
       "      <th>Material Fusion Metric</th>\n",
       "      <th>Material Transformation Metric</th>\n",
       "      <th>Quality Rating</th>\n",
       "    </tr>\n",
       "  </thead>\n",
       "  <tbody>\n",
       "    <tr>\n",
       "      <th>0</th>\n",
       "      <td>209.762701</td>\n",
       "      <td>8.050855</td>\n",
       "      <td>1688.769167</td>\n",
       "      <td>44522.217074</td>\n",
       "      <td>9.229576e+06</td>\n",
       "      <td>99.999971</td>\n",
       "    </tr>\n",
       "    <tr>\n",
       "      <th>1</th>\n",
       "      <td>243.037873</td>\n",
       "      <td>15.812068</td>\n",
       "      <td>3842.931469</td>\n",
       "      <td>63020.764997</td>\n",
       "      <td>1.435537e+07</td>\n",
       "      <td>99.985703</td>\n",
       "    </tr>\n",
       "    <tr>\n",
       "      <th>2</th>\n",
       "      <td>220.552675</td>\n",
       "      <td>7.843130</td>\n",
       "      <td>1729.823314</td>\n",
       "      <td>49125.950249</td>\n",
       "      <td>1.072839e+07</td>\n",
       "      <td>99.999758</td>\n",
       "    </tr>\n",
       "    <tr>\n",
       "      <th>3</th>\n",
       "      <td>208.976637</td>\n",
       "      <td>23.786089</td>\n",
       "      <td>4970.736918</td>\n",
       "      <td>57128.881547</td>\n",
       "      <td>9.125702e+06</td>\n",
       "      <td>99.999975</td>\n",
       "    </tr>\n",
       "    <tr>\n",
       "      <th>4</th>\n",
       "      <td>184.730960</td>\n",
       "      <td>15.797812</td>\n",
       "      <td>2918.345014</td>\n",
       "      <td>38068.201283</td>\n",
       "      <td>6.303792e+06</td>\n",
       "      <td>100.000000</td>\n",
       "    </tr>\n",
       "  </tbody>\n",
       "</table>\n",
       "</div>"
      ],
      "text/plain": [
       "   Temperature (°C)  Pressure (kPa)  Temperature x Pressure  \\\n",
       "0        209.762701        8.050855             1688.769167   \n",
       "1        243.037873       15.812068             3842.931469   \n",
       "2        220.552675        7.843130             1729.823314   \n",
       "3        208.976637       23.786089             4970.736918   \n",
       "4        184.730960       15.797812             2918.345014   \n",
       "\n",
       "   Material Fusion Metric  Material Transformation Metric  Quality Rating  \n",
       "0            44522.217074                    9.229576e+06       99.999971  \n",
       "1            63020.764997                    1.435537e+07       99.985703  \n",
       "2            49125.950249                    1.072839e+07       99.999758  \n",
       "3            57128.881547                    9.125702e+06       99.999975  \n",
       "4            38068.201283                    6.303792e+06      100.000000  "
      ]
     },
     "execution_count": 3,
     "metadata": {},
     "output_type": "execute_result"
    }
   ],
   "source": [
    "data = pd.read_csv('manufacturing.csv')\n",
    "data.head()"
   ]
  },
  {
   "cell_type": "code",
   "execution_count": 4,
   "id": "82eba930-43bb-4f52-a71c-60271f79883a",
   "metadata": {
    "tags": []
   },
   "outputs": [
    {
     "data": {
      "text/plain": [
       "(3957, 6)"
      ]
     },
     "execution_count": 4,
     "metadata": {},
     "output_type": "execute_result"
    }
   ],
   "source": [
    "data.shape"
   ]
  },
  {
   "cell_type": "code",
   "execution_count": 5,
   "id": "5fc27e82-5f83-42e4-876a-a1d63d14dade",
   "metadata": {
    "tags": []
   },
   "outputs": [
    {
     "name": "stdout",
     "output_type": "stream",
     "text": [
      "<class 'pandas.core.frame.DataFrame'>\n",
      "RangeIndex: 3957 entries, 0 to 3956\n",
      "Data columns (total 6 columns):\n",
      " #   Column                          Non-Null Count  Dtype  \n",
      "---  ------                          --------------  -----  \n",
      " 0   Temperature (°C)                3957 non-null   float64\n",
      " 1   Pressure (kPa)                  3957 non-null   float64\n",
      " 2   Temperature x Pressure          3957 non-null   float64\n",
      " 3   Material Fusion Metric          3957 non-null   float64\n",
      " 4   Material Transformation Metric  3957 non-null   float64\n",
      " 5   Quality Rating                  3957 non-null   float64\n",
      "dtypes: float64(6)\n",
      "memory usage: 185.6 KB\n"
     ]
    }
   ],
   "source": [
    "data.info()"
   ]
  },
  {
   "cell_type": "code",
   "execution_count": 6,
   "id": "76e0a33a-ddf1-4c89-85f3-3efbd3cfaeef",
   "metadata": {
    "tags": []
   },
   "outputs": [
    {
     "data": {
      "text/html": [
       "<div>\n",
       "<style scoped>\n",
       "    .dataframe tbody tr th:only-of-type {\n",
       "        vertical-align: middle;\n",
       "    }\n",
       "\n",
       "    .dataframe tbody tr th {\n",
       "        vertical-align: top;\n",
       "    }\n",
       "\n",
       "    .dataframe thead th {\n",
       "        text-align: right;\n",
       "    }\n",
       "</style>\n",
       "<table border=\"1\" class=\"dataframe\">\n",
       "  <thead>\n",
       "    <tr style=\"text-align: right;\">\n",
       "      <th></th>\n",
       "      <th>Temperature (°C)</th>\n",
       "      <th>Pressure (kPa)</th>\n",
       "      <th>Temperature x Pressure</th>\n",
       "      <th>Material Fusion Metric</th>\n",
       "      <th>Material Transformation Metric</th>\n",
       "      <th>Quality Rating</th>\n",
       "    </tr>\n",
       "  </thead>\n",
       "  <tbody>\n",
       "    <tr>\n",
       "      <th>count</th>\n",
       "      <td>3957.000000</td>\n",
       "      <td>3957.000000</td>\n",
       "      <td>3957.000000</td>\n",
       "      <td>3957.000000</td>\n",
       "      <td>3.957000e+03</td>\n",
       "      <td>3957.000000</td>\n",
       "    </tr>\n",
       "    <tr>\n",
       "      <th>mean</th>\n",
       "      <td>200.034704</td>\n",
       "      <td>14.815558</td>\n",
       "      <td>2955.321308</td>\n",
       "      <td>48127.183128</td>\n",
       "      <td>1.003645e+07</td>\n",
       "      <td>96.260179</td>\n",
       "    </tr>\n",
       "    <tr>\n",
       "      <th>std</th>\n",
       "      <td>58.135717</td>\n",
       "      <td>5.772040</td>\n",
       "      <td>1458.224940</td>\n",
       "      <td>23812.213513</td>\n",
       "      <td>7.599356e+06</td>\n",
       "      <td>12.992262</td>\n",
       "    </tr>\n",
       "    <tr>\n",
       "      <th>min</th>\n",
       "      <td>100.014490</td>\n",
       "      <td>5.003008</td>\n",
       "      <td>513.706875</td>\n",
       "      <td>10156.971955</td>\n",
       "      <td>9.999462e+05</td>\n",
       "      <td>1.000000</td>\n",
       "    </tr>\n",
       "    <tr>\n",
       "      <th>25%</th>\n",
       "      <td>150.871296</td>\n",
       "      <td>9.692984</td>\n",
       "      <td>1798.247303</td>\n",
       "      <td>27626.929091</td>\n",
       "      <td>3.433810e+06</td>\n",
       "      <td>99.941129</td>\n",
       "    </tr>\n",
       "    <tr>\n",
       "      <th>50%</th>\n",
       "      <td>198.603371</td>\n",
       "      <td>14.832557</td>\n",
       "      <td>2678.277782</td>\n",
       "      <td>44611.452164</td>\n",
       "      <td>7.833390e+06</td>\n",
       "      <td>99.999997</td>\n",
       "    </tr>\n",
       "    <tr>\n",
       "      <th>75%</th>\n",
       "      <td>251.366552</td>\n",
       "      <td>19.749680</td>\n",
       "      <td>3929.058261</td>\n",
       "      <td>67805.443846</td>\n",
       "      <td>1.588251e+07</td>\n",
       "      <td>100.000000</td>\n",
       "    </tr>\n",
       "    <tr>\n",
       "      <th>max</th>\n",
       "      <td>299.992804</td>\n",
       "      <td>24.999132</td>\n",
       "      <td>7365.018714</td>\n",
       "      <td>103756.181544</td>\n",
       "      <td>2.699783e+07</td>\n",
       "      <td>100.000000</td>\n",
       "    </tr>\n",
       "  </tbody>\n",
       "</table>\n",
       "</div>"
      ],
      "text/plain": [
       "       Temperature (°C)  Pressure (kPa)  Temperature x Pressure  \\\n",
       "count       3957.000000     3957.000000             3957.000000   \n",
       "mean         200.034704       14.815558             2955.321308   \n",
       "std           58.135717        5.772040             1458.224940   \n",
       "min          100.014490        5.003008              513.706875   \n",
       "25%          150.871296        9.692984             1798.247303   \n",
       "50%          198.603371       14.832557             2678.277782   \n",
       "75%          251.366552       19.749680             3929.058261   \n",
       "max          299.992804       24.999132             7365.018714   \n",
       "\n",
       "       Material Fusion Metric  Material Transformation Metric  Quality Rating  \n",
       "count             3957.000000                    3.957000e+03     3957.000000  \n",
       "mean             48127.183128                    1.003645e+07       96.260179  \n",
       "std              23812.213513                    7.599356e+06       12.992262  \n",
       "min              10156.971955                    9.999462e+05        1.000000  \n",
       "25%              27626.929091                    3.433810e+06       99.941129  \n",
       "50%              44611.452164                    7.833390e+06       99.999997  \n",
       "75%              67805.443846                    1.588251e+07      100.000000  \n",
       "max             103756.181544                    2.699783e+07      100.000000  "
      ]
     },
     "execution_count": 6,
     "metadata": {},
     "output_type": "execute_result"
    }
   ],
   "source": [
    "data.describe()"
   ]
  },
  {
   "cell_type": "code",
   "execution_count": 7,
   "id": "4640bdc2-9fc9-475a-9877-6e38bea24ef1",
   "metadata": {
    "tags": []
   },
   "outputs": [],
   "source": [
    "select_col = ['Temperature (°C)', 'Pressure (kPa)', 'Temperature x Pressure', 'Material Fusion Metric', 'Material Transformation Metric']"
   ]
  },
  {
   "cell_type": "code",
   "execution_count": 8,
   "id": "39ab382f-4e0a-4ef9-86c5-e60701ac6082",
   "metadata": {
    "tags": []
   },
   "outputs": [
    {
     "data": {
      "text/html": [
       "<div>\n",
       "<style scoped>\n",
       "    .dataframe tbody tr th:only-of-type {\n",
       "        vertical-align: middle;\n",
       "    }\n",
       "\n",
       "    .dataframe tbody tr th {\n",
       "        vertical-align: top;\n",
       "    }\n",
       "\n",
       "    .dataframe thead th {\n",
       "        text-align: right;\n",
       "    }\n",
       "</style>\n",
       "<table border=\"1\" class=\"dataframe\">\n",
       "  <thead>\n",
       "    <tr style=\"text-align: right;\">\n",
       "      <th></th>\n",
       "      <th>Temperature (°C)</th>\n",
       "      <th>Pressure (kPa)</th>\n",
       "      <th>Temperature x Pressure</th>\n",
       "      <th>Material Fusion Metric</th>\n",
       "      <th>Material Transformation Metric</th>\n",
       "    </tr>\n",
       "  </thead>\n",
       "  <tbody>\n",
       "    <tr>\n",
       "      <th>count</th>\n",
       "      <td>3957.000000</td>\n",
       "      <td>3957.000000</td>\n",
       "      <td>3957.000000</td>\n",
       "      <td>3957.000000</td>\n",
       "      <td>3.957000e+03</td>\n",
       "    </tr>\n",
       "    <tr>\n",
       "      <th>mean</th>\n",
       "      <td>200.034704</td>\n",
       "      <td>14.815558</td>\n",
       "      <td>2955.321308</td>\n",
       "      <td>48127.183128</td>\n",
       "      <td>1.003645e+07</td>\n",
       "    </tr>\n",
       "    <tr>\n",
       "      <th>std</th>\n",
       "      <td>58.135717</td>\n",
       "      <td>5.772040</td>\n",
       "      <td>1458.224940</td>\n",
       "      <td>23812.213513</td>\n",
       "      <td>7.599356e+06</td>\n",
       "    </tr>\n",
       "    <tr>\n",
       "      <th>min</th>\n",
       "      <td>100.014490</td>\n",
       "      <td>5.003008</td>\n",
       "      <td>513.706875</td>\n",
       "      <td>10156.971955</td>\n",
       "      <td>9.999462e+05</td>\n",
       "    </tr>\n",
       "    <tr>\n",
       "      <th>25%</th>\n",
       "      <td>150.871296</td>\n",
       "      <td>9.692984</td>\n",
       "      <td>1798.247303</td>\n",
       "      <td>27626.929091</td>\n",
       "      <td>3.433810e+06</td>\n",
       "    </tr>\n",
       "    <tr>\n",
       "      <th>50%</th>\n",
       "      <td>198.603371</td>\n",
       "      <td>14.832557</td>\n",
       "      <td>2678.277782</td>\n",
       "      <td>44611.452164</td>\n",
       "      <td>7.833390e+06</td>\n",
       "    </tr>\n",
       "    <tr>\n",
       "      <th>75%</th>\n",
       "      <td>251.366552</td>\n",
       "      <td>19.749680</td>\n",
       "      <td>3929.058261</td>\n",
       "      <td>67805.443846</td>\n",
       "      <td>1.588251e+07</td>\n",
       "    </tr>\n",
       "    <tr>\n",
       "      <th>max</th>\n",
       "      <td>299.992804</td>\n",
       "      <td>24.999132</td>\n",
       "      <td>7365.018714</td>\n",
       "      <td>103756.181544</td>\n",
       "      <td>2.699783e+07</td>\n",
       "    </tr>\n",
       "  </tbody>\n",
       "</table>\n",
       "</div>"
      ],
      "text/plain": [
       "       Temperature (°C)  Pressure (kPa)  Temperature x Pressure  \\\n",
       "count       3957.000000     3957.000000             3957.000000   \n",
       "mean         200.034704       14.815558             2955.321308   \n",
       "std           58.135717        5.772040             1458.224940   \n",
       "min          100.014490        5.003008              513.706875   \n",
       "25%          150.871296        9.692984             1798.247303   \n",
       "50%          198.603371       14.832557             2678.277782   \n",
       "75%          251.366552       19.749680             3929.058261   \n",
       "max          299.992804       24.999132             7365.018714   \n",
       "\n",
       "       Material Fusion Metric  Material Transformation Metric  \n",
       "count             3957.000000                    3.957000e+03  \n",
       "mean             48127.183128                    1.003645e+07  \n",
       "std              23812.213513                    7.599356e+06  \n",
       "min              10156.971955                    9.999462e+05  \n",
       "25%              27626.929091                    3.433810e+06  \n",
       "50%              44611.452164                    7.833390e+06  \n",
       "75%              67805.443846                    1.588251e+07  \n",
       "max             103756.181544                    2.699783e+07  "
      ]
     },
     "execution_count": 8,
     "metadata": {},
     "output_type": "execute_result"
    }
   ],
   "source": [
    "select_col_df = data[['Temperature (°C)', 'Pressure (kPa)', 'Temperature x Pressure', 'Material Fusion Metric', 'Material Transformation Metric']]\n",
    "select_col_df = select_col_df.describe()\n",
    "select_col_df"
   ]
  },
  {
   "cell_type": "code",
   "execution_count": 9,
   "id": "56909bcc-eba5-4dfb-86ce-17e8a5e9b4e7",
   "metadata": {
    "tags": []
   },
   "outputs": [
    {
     "data": {
      "text/html": [
       "<div>\n",
       "<style scoped>\n",
       "    .dataframe tbody tr th:only-of-type {\n",
       "        vertical-align: middle;\n",
       "    }\n",
       "\n",
       "    .dataframe tbody tr th {\n",
       "        vertical-align: top;\n",
       "    }\n",
       "\n",
       "    .dataframe thead th {\n",
       "        text-align: right;\n",
       "    }\n",
       "</style>\n",
       "<table border=\"1\" class=\"dataframe\">\n",
       "  <thead>\n",
       "    <tr style=\"text-align: right;\">\n",
       "      <th></th>\n",
       "      <th>Temperature (°C)</th>\n",
       "      <th>Pressure (kPa)</th>\n",
       "      <th>Temperature x Pressure</th>\n",
       "      <th>Material Fusion Metric</th>\n",
       "      <th>Material Transformation Metric</th>\n",
       "    </tr>\n",
       "  </thead>\n",
       "  <tbody>\n",
       "    <tr>\n",
       "      <th>mean</th>\n",
       "      <td>200.034704</td>\n",
       "      <td>14.815558</td>\n",
       "      <td>2955.321308</td>\n",
       "      <td>48127.183128</td>\n",
       "      <td>1.003645e+07</td>\n",
       "    </tr>\n",
       "  </tbody>\n",
       "</table>\n",
       "</div>"
      ],
      "text/plain": [
       "      Temperature (°C)  Pressure (kPa)  Temperature x Pressure  \\\n",
       "mean        200.034704       14.815558             2955.321308   \n",
       "\n",
       "      Material Fusion Metric  Material Transformation Metric  \n",
       "mean            48127.183128                    1.003645e+07  "
      ]
     },
     "execution_count": 9,
     "metadata": {},
     "output_type": "execute_result"
    }
   ],
   "source": [
    "mean_value = select_col_df.iloc[1:2,:]\n",
    "mean_value"
   ]
  },
  {
   "cell_type": "code",
   "execution_count": 10,
   "id": "cea22682-3d69-4c6a-aad3-529ff1b23de9",
   "metadata": {
    "tags": []
   },
   "outputs": [
    {
     "data": {
      "text/plain": [
       "array([2.00034704e+02, 1.48155580e+01, 2.95532131e+03, 4.81271831e+04,\n",
       "       1.00364536e+07])"
      ]
     },
     "execution_count": 10,
     "metadata": {},
     "output_type": "execute_result"
    }
   ],
   "source": [
    "mean_value = select_col_df.iloc[1:2,:].values[0]\n",
    "mean_value"
   ]
  },
  {
   "cell_type": "code",
   "execution_count": 11,
   "id": "9521d4b5-a4d0-4284-9601-98498b7b2f8e",
   "metadata": {
    "tags": []
   },
   "outputs": [],
   "source": [
    "# Replacing the values equal to 0 by the median\n",
    "for col in data[select_col]:\n",
    "    data.loc[:,col].replace(0, data.loc[:,col].median(), inplace=True)\n",
    "    # print(data.loc[:,col])"
   ]
  },
  {
   "cell_type": "code",
   "execution_count": 12,
   "id": "2722e7ec-0b8d-4208-ad9b-4d9564f513b1",
   "metadata": {
    "tags": []
   },
   "outputs": [
    {
     "data": {
      "text/html": [
       "<div>\n",
       "<style scoped>\n",
       "    .dataframe tbody tr th:only-of-type {\n",
       "        vertical-align: middle;\n",
       "    }\n",
       "\n",
       "    .dataframe tbody tr th {\n",
       "        vertical-align: top;\n",
       "    }\n",
       "\n",
       "    .dataframe thead th {\n",
       "        text-align: right;\n",
       "    }\n",
       "</style>\n",
       "<table border=\"1\" class=\"dataframe\">\n",
       "  <thead>\n",
       "    <tr style=\"text-align: right;\">\n",
       "      <th></th>\n",
       "      <th>Temperature (°C)</th>\n",
       "      <th>Pressure (kPa)</th>\n",
       "      <th>Temperature x Pressure</th>\n",
       "      <th>Material Fusion Metric</th>\n",
       "      <th>Material Transformation Metric</th>\n",
       "      <th>Quality Rating</th>\n",
       "    </tr>\n",
       "  </thead>\n",
       "  <tbody>\n",
       "    <tr>\n",
       "      <th>0</th>\n",
       "      <td>209.762701</td>\n",
       "      <td>8.050855</td>\n",
       "      <td>1688.769167</td>\n",
       "      <td>44522.217074</td>\n",
       "      <td>9.229576e+06</td>\n",
       "      <td>99.999971</td>\n",
       "    </tr>\n",
       "    <tr>\n",
       "      <th>1</th>\n",
       "      <td>243.037873</td>\n",
       "      <td>15.812068</td>\n",
       "      <td>3842.931469</td>\n",
       "      <td>63020.764997</td>\n",
       "      <td>1.435537e+07</td>\n",
       "      <td>99.985703</td>\n",
       "    </tr>\n",
       "    <tr>\n",
       "      <th>2</th>\n",
       "      <td>220.552675</td>\n",
       "      <td>7.843130</td>\n",
       "      <td>1729.823314</td>\n",
       "      <td>49125.950249</td>\n",
       "      <td>1.072839e+07</td>\n",
       "      <td>99.999758</td>\n",
       "    </tr>\n",
       "    <tr>\n",
       "      <th>3</th>\n",
       "      <td>208.976637</td>\n",
       "      <td>23.786089</td>\n",
       "      <td>4970.736918</td>\n",
       "      <td>57128.881547</td>\n",
       "      <td>9.125702e+06</td>\n",
       "      <td>99.999975</td>\n",
       "    </tr>\n",
       "    <tr>\n",
       "      <th>4</th>\n",
       "      <td>184.730960</td>\n",
       "      <td>15.797812</td>\n",
       "      <td>2918.345014</td>\n",
       "      <td>38068.201283</td>\n",
       "      <td>6.303792e+06</td>\n",
       "      <td>100.000000</td>\n",
       "    </tr>\n",
       "    <tr>\n",
       "      <th>...</th>\n",
       "      <td>...</td>\n",
       "      <td>...</td>\n",
       "      <td>...</td>\n",
       "      <td>...</td>\n",
       "      <td>...</td>\n",
       "      <td>...</td>\n",
       "    </tr>\n",
       "    <tr>\n",
       "      <th>3952</th>\n",
       "      <td>156.811578</td>\n",
       "      <td>21.794290</td>\n",
       "      <td>3417.596965</td>\n",
       "      <td>34941.963896</td>\n",
       "      <td>3.855501e+06</td>\n",
       "      <td>100.000000</td>\n",
       "    </tr>\n",
       "    <tr>\n",
       "      <th>3953</th>\n",
       "      <td>197.850406</td>\n",
       "      <td>8.291704</td>\n",
       "      <td>1640.516924</td>\n",
       "      <td>39714.857236</td>\n",
       "      <td>7.744742e+06</td>\n",
       "      <td>99.999997</td>\n",
       "    </tr>\n",
       "    <tr>\n",
       "      <th>3954</th>\n",
       "      <td>241.357144</td>\n",
       "      <td>16.391910</td>\n",
       "      <td>3956.304672</td>\n",
       "      <td>62657.690952</td>\n",
       "      <td>1.405957e+07</td>\n",
       "      <td>99.989318</td>\n",
       "    </tr>\n",
       "    <tr>\n",
       "      <th>3955</th>\n",
       "      <td>209.040239</td>\n",
       "      <td>23.809936</td>\n",
       "      <td>4977.234763</td>\n",
       "      <td>57195.985528</td>\n",
       "      <td>9.134036e+06</td>\n",
       "      <td>99.999975</td>\n",
       "    </tr>\n",
       "    <tr>\n",
       "      <th>3956</th>\n",
       "      <td>163.359996</td>\n",
       "      <td>24.332133</td>\n",
       "      <td>3974.897121</td>\n",
       "      <td>41092.392901</td>\n",
       "      <td>4.358913e+06</td>\n",
       "      <td>100.000000</td>\n",
       "    </tr>\n",
       "  </tbody>\n",
       "</table>\n",
       "<p>3957 rows × 6 columns</p>\n",
       "</div>"
      ],
      "text/plain": [
       "      Temperature (°C)  Pressure (kPa)  Temperature x Pressure  \\\n",
       "0           209.762701        8.050855             1688.769167   \n",
       "1           243.037873       15.812068             3842.931469   \n",
       "2           220.552675        7.843130             1729.823314   \n",
       "3           208.976637       23.786089             4970.736918   \n",
       "4           184.730960       15.797812             2918.345014   \n",
       "...                ...             ...                     ...   \n",
       "3952        156.811578       21.794290             3417.596965   \n",
       "3953        197.850406        8.291704             1640.516924   \n",
       "3954        241.357144       16.391910             3956.304672   \n",
       "3955        209.040239       23.809936             4977.234763   \n",
       "3956        163.359996       24.332133             3974.897121   \n",
       "\n",
       "      Material Fusion Metric  Material Transformation Metric  Quality Rating  \n",
       "0               44522.217074                    9.229576e+06       99.999971  \n",
       "1               63020.764997                    1.435537e+07       99.985703  \n",
       "2               49125.950249                    1.072839e+07       99.999758  \n",
       "3               57128.881547                    9.125702e+06       99.999975  \n",
       "4               38068.201283                    6.303792e+06      100.000000  \n",
       "...                      ...                             ...             ...  \n",
       "3952            34941.963896                    3.855501e+06      100.000000  \n",
       "3953            39714.857236                    7.744742e+06       99.999997  \n",
       "3954            62657.690952                    1.405957e+07       99.989318  \n",
       "3955            57195.985528                    9.134036e+06       99.999975  \n",
       "3956            41092.392901                    4.358913e+06      100.000000  \n",
       "\n",
       "[3957 rows x 6 columns]"
      ]
     },
     "execution_count": 12,
     "metadata": {},
     "output_type": "execute_result"
    }
   ],
   "source": [
    "data"
   ]
  },
  {
   "cell_type": "code",
   "execution_count": 14,
   "id": "0eb57f66-0066-40e6-9b26-f47a189b0e14",
   "metadata": {
    "tags": []
   },
   "outputs": [
    {
     "name": "stdout",
     "output_type": "stream",
     "text": [
      "1\n",
      "0\n"
     ]
    }
   ],
   "source": [
    "print(len(data[data['Quality Rating'] == 1]))\n",
    "print(len(data[data['Quality Rating'] == 0]))"
   ]
  },
  {
   "cell_type": "code",
   "execution_count": 15,
   "id": "fcbbb0de-5edd-4176-bb13-6b1698942434",
   "metadata": {
    "tags": []
   },
   "outputs": [
    {
     "data": {
      "text/html": [
       "<div>\n",
       "<style scoped>\n",
       "    .dataframe tbody tr th:only-of-type {\n",
       "        vertical-align: middle;\n",
       "    }\n",
       "\n",
       "    .dataframe tbody tr th {\n",
       "        vertical-align: top;\n",
       "    }\n",
       "\n",
       "    .dataframe thead th {\n",
       "        text-align: right;\n",
       "    }\n",
       "</style>\n",
       "<table border=\"1\" class=\"dataframe\">\n",
       "  <thead>\n",
       "    <tr style=\"text-align: right;\">\n",
       "      <th></th>\n",
       "      <th>Temperature (°C)</th>\n",
       "      <th>Pressure (kPa)</th>\n",
       "      <th>Temperature x Pressure</th>\n",
       "      <th>Material Fusion Metric</th>\n",
       "      <th>Material Transformation Metric</th>\n",
       "      <th>Quality Rating</th>\n",
       "    </tr>\n",
       "  </thead>\n",
       "  <tbody>\n",
       "    <tr>\n",
       "      <th>count</th>\n",
       "      <td>3957.000000</td>\n",
       "      <td>3957.000000</td>\n",
       "      <td>3957.000000</td>\n",
       "      <td>3957.000000</td>\n",
       "      <td>3.957000e+03</td>\n",
       "      <td>3957.000000</td>\n",
       "    </tr>\n",
       "    <tr>\n",
       "      <th>mean</th>\n",
       "      <td>200.034704</td>\n",
       "      <td>14.815558</td>\n",
       "      <td>2955.321308</td>\n",
       "      <td>48127.183128</td>\n",
       "      <td>1.003645e+07</td>\n",
       "      <td>96.260179</td>\n",
       "    </tr>\n",
       "    <tr>\n",
       "      <th>std</th>\n",
       "      <td>58.135717</td>\n",
       "      <td>5.772040</td>\n",
       "      <td>1458.224940</td>\n",
       "      <td>23812.213513</td>\n",
       "      <td>7.599356e+06</td>\n",
       "      <td>12.992262</td>\n",
       "    </tr>\n",
       "    <tr>\n",
       "      <th>min</th>\n",
       "      <td>100.014490</td>\n",
       "      <td>5.003008</td>\n",
       "      <td>513.706875</td>\n",
       "      <td>10156.971955</td>\n",
       "      <td>9.999462e+05</td>\n",
       "      <td>1.000000</td>\n",
       "    </tr>\n",
       "    <tr>\n",
       "      <th>25%</th>\n",
       "      <td>150.871296</td>\n",
       "      <td>9.692984</td>\n",
       "      <td>1798.247303</td>\n",
       "      <td>27626.929091</td>\n",
       "      <td>3.433810e+06</td>\n",
       "      <td>99.941129</td>\n",
       "    </tr>\n",
       "    <tr>\n",
       "      <th>50%</th>\n",
       "      <td>198.603371</td>\n",
       "      <td>14.832557</td>\n",
       "      <td>2678.277782</td>\n",
       "      <td>44611.452164</td>\n",
       "      <td>7.833390e+06</td>\n",
       "      <td>99.999997</td>\n",
       "    </tr>\n",
       "    <tr>\n",
       "      <th>75%</th>\n",
       "      <td>251.366552</td>\n",
       "      <td>19.749680</td>\n",
       "      <td>3929.058261</td>\n",
       "      <td>67805.443846</td>\n",
       "      <td>1.588251e+07</td>\n",
       "      <td>100.000000</td>\n",
       "    </tr>\n",
       "    <tr>\n",
       "      <th>max</th>\n",
       "      <td>299.992804</td>\n",
       "      <td>24.999132</td>\n",
       "      <td>7365.018714</td>\n",
       "      <td>103756.181544</td>\n",
       "      <td>2.699783e+07</td>\n",
       "      <td>100.000000</td>\n",
       "    </tr>\n",
       "  </tbody>\n",
       "</table>\n",
       "</div>"
      ],
      "text/plain": [
       "       Temperature (°C)  Pressure (kPa)  Temperature x Pressure  \\\n",
       "count       3957.000000     3957.000000             3957.000000   \n",
       "mean         200.034704       14.815558             2955.321308   \n",
       "std           58.135717        5.772040             1458.224940   \n",
       "min          100.014490        5.003008              513.706875   \n",
       "25%          150.871296        9.692984             1798.247303   \n",
       "50%          198.603371       14.832557             2678.277782   \n",
       "75%          251.366552       19.749680             3929.058261   \n",
       "max          299.992804       24.999132             7365.018714   \n",
       "\n",
       "       Material Fusion Metric  Material Transformation Metric  Quality Rating  \n",
       "count             3957.000000                    3.957000e+03     3957.000000  \n",
       "mean             48127.183128                    1.003645e+07       96.260179  \n",
       "std              23812.213513                    7.599356e+06       12.992262  \n",
       "min              10156.971955                    9.999462e+05        1.000000  \n",
       "25%              27626.929091                    3.433810e+06       99.941129  \n",
       "50%              44611.452164                    7.833390e+06       99.999997  \n",
       "75%              67805.443846                    1.588251e+07      100.000000  \n",
       "max             103756.181544                    2.699783e+07      100.000000  "
      ]
     },
     "execution_count": 15,
     "metadata": {},
     "output_type": "execute_result"
    }
   ],
   "source": [
    "data.describe()"
   ]
  },
  {
   "cell_type": "code",
   "execution_count": 17,
   "id": "d4cf70ac-8345-4a48-b4ba-5845f3159b9c",
   "metadata": {
    "tags": []
   },
   "outputs": [
    {
     "data": {
      "image/png": "[encoded data removed]",
      "text/plain": [
       "<Figure size 2500x1200 with 2 Axes>"
      ]
     },
     "metadata": {},
     "output_type": "display_data"
    }
   ],
   "source": [
    "plt.figure(figsize=(25,12))\n",
    "corr = data.corr()\n",
    "sns.heatmap(corr, annot=True, cmap='Set2')\n",
    "plt.show()"
   ]
  },
  {
   "cell_type": "code",
   "execution_count": 18,
   "id": "ae639d0f-bf55-41d2-b823-7ead8756da52",
   "metadata": {
    "tags": []
   },
   "outputs": [],
   "source": [
    "# training and normalization of data\n",
    "X = data.iloc[:,:8]\n",
    "Y = data.iloc[:,8:]\n",
    "\n",
    "X_train, X_test, Y_train, Y_test = train_test_split(X,Y, test_size = 0.20, random_state=1)"
   ]
  },
  {
   "cell_type": "code",
   "execution_count": 20,
   "id": "fde0af83-e5e5-4bb6-9f25-3d9e3088e0da",
   "metadata": {
    "tags": []
   },
   "outputs": [
    {
     "ename": "AttributeError",
     "evalue": "'SVC' object has no attribute 'support_vectors_'",
     "output_type": "error",
     "traceback": [
      "\u001b[1;31m---------------------------------------------------------------------------\u001b[0m",
      "\u001b[1;31mAttributeError\u001b[0m                            Traceback (most recent call last)",
      "Cell \u001b[1;32mIn[20], line 1\u001b[0m\n\u001b[1;32m----> 1\u001b[0m Y_pred \u001b[38;5;241m=\u001b[39m svc\u001b[38;5;241m.\u001b[39mpredict(X_test)\n\u001b[0;32m      3\u001b[0m svc_accuracy\u001b[38;5;241m=\u001b[39m \u001b[38;5;28mround\u001b[39m(accuracy_score(Y_test,Y_pred), \u001b[38;5;241m5\u001b[39m)\u001b[38;5;241m*\u001b[39m\u001b[38;5;241m100\u001b[39m \u001b[38;5;66;03m# Accuracy\u001b[39;00m\n\u001b[0;32m      4\u001b[0m svc_accuracy\n",
      "File \u001b[1;32m~\\anaconda3\\Lib\\site-packages\\sklearn\\svm\\_base.py:818\u001b[0m, in \u001b[0;36mBaseSVC.predict\u001b[1;34m(self, X)\u001b[0m\n\u001b[0;32m    816\u001b[0m     y \u001b[38;5;241m=\u001b[39m np\u001b[38;5;241m.\u001b[39margmax(\u001b[38;5;28mself\u001b[39m\u001b[38;5;241m.\u001b[39mdecision_function(X), axis\u001b[38;5;241m=\u001b[39m\u001b[38;5;241m1\u001b[39m)\n\u001b[0;32m    817\u001b[0m \u001b[38;5;28;01melse\u001b[39;00m:\n\u001b[1;32m--> 818\u001b[0m     y \u001b[38;5;241m=\u001b[39m \u001b[38;5;28msuper\u001b[39m()\u001b[38;5;241m.\u001b[39mpredict(X)\n\u001b[0;32m    819\u001b[0m \u001b[38;5;28;01mreturn\u001b[39;00m \u001b[38;5;28mself\u001b[39m\u001b[38;5;241m.\u001b[39mclasses_\u001b[38;5;241m.\u001b[39mtake(np\u001b[38;5;241m.\u001b[39masarray(y, dtype\u001b[38;5;241m=\u001b[39mnp\u001b[38;5;241m.\u001b[39mintp))\n",
      "File \u001b[1;32m~\\anaconda3\\Lib\\site-packages\\sklearn\\svm\\_base.py:431\u001b[0m, in \u001b[0;36mBaseLibSVM.predict\u001b[1;34m(self, X)\u001b[0m\n\u001b[0;32m    415\u001b[0m \u001b[38;5;28;01mdef\u001b[39;00m \u001b[38;5;21mpredict\u001b[39m(\u001b[38;5;28mself\u001b[39m, X):\n\u001b[0;32m    416\u001b[0m \u001b[38;5;250m    \u001b[39m\u001b[38;5;124;03m\"\"\"Perform regression on samples in X.\u001b[39;00m\n\u001b[0;32m    417\u001b[0m \n\u001b[0;32m    418\u001b[0m \u001b[38;5;124;03m    For an one-class model, +1 (inlier) or -1 (outlier) is returned.\u001b[39;00m\n\u001b[1;32m   (...)\u001b[0m\n\u001b[0;32m    429\u001b[0m \u001b[38;5;124;03m        The predicted values.\u001b[39;00m\n\u001b[0;32m    430\u001b[0m \u001b[38;5;124;03m    \"\"\"\u001b[39;00m\n\u001b[1;32m--> 431\u001b[0m     X \u001b[38;5;241m=\u001b[39m \u001b[38;5;28mself\u001b[39m\u001b[38;5;241m.\u001b[39m_validate_for_predict(X)\n\u001b[0;32m    432\u001b[0m     predict \u001b[38;5;241m=\u001b[39m \u001b[38;5;28mself\u001b[39m\u001b[38;5;241m.\u001b[39m_sparse_predict \u001b[38;5;28;01mif\u001b[39;00m \u001b[38;5;28mself\u001b[39m\u001b[38;5;241m.\u001b[39m_sparse \u001b[38;5;28;01melse\u001b[39;00m \u001b[38;5;28mself\u001b[39m\u001b[38;5;241m.\u001b[39m_dense_predict\n\u001b[0;32m    433\u001b[0m     \u001b[38;5;28;01mreturn\u001b[39;00m predict(X)\n",
      "File \u001b[1;32m~\\anaconda3\\Lib\\site-packages\\sklearn\\svm\\_base.py:640\u001b[0m, in \u001b[0;36mBaseLibSVM._validate_for_predict\u001b[1;34m(self, X)\u001b[0m\n\u001b[0;32m    633\u001b[0m         \u001b[38;5;28;01mraise\u001b[39;00m \u001b[38;5;167;01mValueError\u001b[39;00m(\n\u001b[0;32m    634\u001b[0m             \u001b[38;5;124m\"\u001b[39m\u001b[38;5;124mX.shape[1] = \u001b[39m\u001b[38;5;132;01m%d\u001b[39;00m\u001b[38;5;124m should be equal to \u001b[39m\u001b[38;5;132;01m%d\u001b[39;00m\u001b[38;5;124m, \u001b[39m\u001b[38;5;124m\"\u001b[39m\n\u001b[0;32m    635\u001b[0m             \u001b[38;5;124m\"\u001b[39m\u001b[38;5;124mthe number of samples at training time\u001b[39m\u001b[38;5;124m\"\u001b[39m\n\u001b[0;32m    636\u001b[0m             \u001b[38;5;241m%\u001b[39m (X\u001b[38;5;241m.\u001b[39mshape[\u001b[38;5;241m1\u001b[39m], \u001b[38;5;28mself\u001b[39m\u001b[38;5;241m.\u001b[39mshape_fit_[\u001b[38;5;241m0\u001b[39m])\n\u001b[0;32m    637\u001b[0m         )\n\u001b[0;32m    638\u001b[0m \u001b[38;5;66;03m# Fixes https://nvd.nist.gov/vuln/detail/CVE-2020-28975\u001b[39;00m\n\u001b[0;32m    639\u001b[0m \u001b[38;5;66;03m# Check that _n_support is consistent with support_vectors\u001b[39;00m\n\u001b[1;32m--> 640\u001b[0m sv \u001b[38;5;241m=\u001b[39m \u001b[38;5;28mself\u001b[39m\u001b[38;5;241m.\u001b[39msupport_vectors_\n\u001b[0;32m    641\u001b[0m \u001b[38;5;28;01mif\u001b[39;00m \u001b[38;5;129;01mnot\u001b[39;00m \u001b[38;5;28mself\u001b[39m\u001b[38;5;241m.\u001b[39m_sparse \u001b[38;5;129;01mand\u001b[39;00m sv\u001b[38;5;241m.\u001b[39msize \u001b[38;5;241m>\u001b[39m \u001b[38;5;241m0\u001b[39m \u001b[38;5;129;01mand\u001b[39;00m \u001b[38;5;28mself\u001b[39m\u001b[38;5;241m.\u001b[39mn_support_\u001b[38;5;241m.\u001b[39msum() \u001b[38;5;241m!=\u001b[39m sv\u001b[38;5;241m.\u001b[39mshape[\u001b[38;5;241m0\u001b[39m]:\n\u001b[0;32m    642\u001b[0m     \u001b[38;5;28;01mraise\u001b[39;00m \u001b[38;5;167;01mValueError\u001b[39;00m(\n\u001b[0;32m    643\u001b[0m         \u001b[38;5;124mf\u001b[39m\u001b[38;5;124m\"\u001b[39m\u001b[38;5;124mThe internal representation of \u001b[39m\u001b[38;5;132;01m{\u001b[39;00m\u001b[38;5;28mself\u001b[39m\u001b[38;5;241m.\u001b[39m\u001b[38;5;18m__class__\u001b[39m\u001b[38;5;241m.\u001b[39m\u001b[38;5;18m__name__\u001b[39m\u001b[38;5;132;01m}\u001b[39;00m\u001b[38;5;124m was altered\u001b[39m\u001b[38;5;124m\"\u001b[39m\n\u001b[0;32m    644\u001b[0m     )\n",
      "\u001b[1;31mAttributeError\u001b[0m: 'SVC' object has no attribute 'support_vectors_'"
     ]
    }
   ],
   "source": [
    "Y_pred = svc.predict(X_test)\n",
    "\n",
    "svc_accuracy= round(accuracy_score(Y_test,Y_pred), 5)*100 # Accuracy\n",
    "svc_accuracy"
   ]
  },
  {
   "cell_type": "code",
   "execution_count": null,
   "id": "c9d54a29-d5e2-4daf-b2a6-e0642718b329",
   "metadata": {},
   "outputs": [],
   "source": []
  }
 ],
 "metadata": {
  "kernelspec": {
   "display_name": "Python 3 (ipykernel)",
   "language": "python",
   "name": "python3"
  },
  "language_info": {
   "codemirror_mode": {
    "name": "ipython",
    "version": 3
   },
   "file_extension": ".py",
   "mimetype": "text/x-python",
   "name": "python",
   "nbconvert_exporter": "python",
   "pygments_lexer": "ipython3",
   "version": "3.11.5"
  }
 },
 "nbformat": 4,
 "nbformat_minor": 5
}
